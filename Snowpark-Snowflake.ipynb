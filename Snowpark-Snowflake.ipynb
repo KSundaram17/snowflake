{
 "cells": [
  {
   "cell_type": "code",
   "execution_count": 1,
   "id": "3de91344",
   "metadata": {},
   "outputs": [],
   "source": [
    "from snowflake.snowpark import Session"
   ]
  },
  {
   "cell_type": "code",
   "execution_count": 2,
   "id": "206b4b23",
   "metadata": {},
   "outputs": [],
   "source": []
  },
  {
   "cell_type": "code",
   "execution_count": null,
   "id": "84fb8635",
   "metadata": {},
   "outputs": [],
   "source": [
    "# for git\n",
    "connection_parameters = {\n",
    "    'account': 'xxxxx',\n",
    "    'user':'xxxxx',\n",
    "    'password':'xxxxx'\n",
    "}\n",
    "\n",
    "new_session = Session.builder.configs(connection_parameters).create()"
   ]
  },
  {
   "cell_type": "code",
   "execution_count": 3,
   "id": "7a9f09f7",
   "metadata": {},
   "outputs": [],
   "source": [
    "from snowflake.snowpark.functions import avg"
   ]
  },
  {
   "cell_type": "code",
   "execution_count": null,
   "id": "dd908f1a",
   "metadata": {},
   "outputs": [],
   "source": [
    "#new_session.close()"
   ]
  },
  {
   "cell_type": "code",
   "execution_count": 4,
   "id": "1a48395f",
   "metadata": {},
   "outputs": [
    {
     "name": "stdout",
     "output_type": "stream",
     "text": [
      "-------------------------------------------------------------------------------------------------------------------------------------------------------------------------------------------------------------------------------------------------\n",
      "|\"created_on\"                      |\"name\"                 |\"is_default\"  |\"is_current\"  |\"origin\"                                            |\"owner\"       |\"comment\"                                          |\"options\"  |\"retention_time\"  |\n",
      "-------------------------------------------------------------------------------------------------------------------------------------------------------------------------------------------------------------------------------------------------\n",
      "|2023-01-25 02:33:22.850000-08:00  |CUSTOMER_DB            |N             |N             |                                                    |ACCOUNTADMIN  |                                                   |           |1                 |\n",
      "|2023-01-17 06:42:23.965000-08:00  |DEMO_DB                |N             |N             |                                                    |ACCOUNTADMIN  |                                                   |           |1                 |\n",
      "|2023-01-16 04:33:13.067000-08:00  |EXERCISE_DB            |N             |N             |                                                    |ACCOUNTADMIN  |                                                   |           |1                 |\n",
      "|2023-01-16 04:39:25.908000-08:00  |MANAGE_DB              |N             |N             |                                                    |ACCOUNTADMIN  |                                                   |           |1                 |\n",
      "|2023-01-16 04:48:38.161000-08:00  |OUR_FIRST_DB           |N             |N             |                                                    |ACCOUNTADMIN  |                                                   |           |1                 |\n",
      "|2023-01-16 02:29:38.012000-08:00  |SNOWFLAKE              |N             |N             |SNOWFLAKE.ACCOUNT_USAGE                             |              |                                                   |           |1                 |\n",
      "|2023-01-16 02:29:42.423000-08:00  |SNOWFLAKE_SAMPLE_DATA  |N             |N             |SFSALESSHARED.SFC_SAMPLES_AWS_EU_WEST_1.SAMPLE_...  |ACCOUNTADMIN  |Provided by Snowflake during account provisioning  |           |1                 |\n",
      "|2023-01-17 07:18:09.118000-08:00  |TIMETRAVEL_EXERCISE    |N             |N             |                                                    |ACCOUNTADMIN  |                                                   |           |1                 |\n",
      "-------------------------------------------------------------------------------------------------------------------------------------------------------------------------------------------------------------------------------------------------\n",
      "\n"
     ]
    }
   ],
   "source": [
    "new_session.sql('SHOW DATABASES').show()"
   ]
  },
  {
   "cell_type": "code",
   "execution_count": 5,
   "id": "8fc302fc",
   "metadata": {},
   "outputs": [
    {
     "data": {
      "text/plain": [
       "[Row(status='Table SAMPLE_PRODUCT_DATA successfully created.')]"
      ]
     },
     "execution_count": 5,
     "metadata": {},
     "output_type": "execute_result"
    }
   ],
   "source": [
    "new_session.sql('CREATE OR REPLACE TABLE DEMO_DB.public.sample_product_data (id INT, parent_id INT, category_id INT, name VARCHAR, serial_number VARCHAR, key INT, \"3rd\" INT)').collect()"
   ]
  },
  {
   "cell_type": "code",
   "execution_count": 9,
   "id": "243856f0",
   "metadata": {},
   "outputs": [
    {
     "name": "stdout",
     "output_type": "stream",
     "text": [
      "------------------------------------\n",
      "|\"status\"                          |\n",
      "------------------------------------\n",
      "|Statement executed successfully.  |\n",
      "------------------------------------\n",
      "\n"
     ]
    }
   ],
   "source": [
    "new_session.sql('use warehouse \"COMPUTE_WH\"')\n",
    "new_session.sql('use role \"ACCOUNTADMIN\"').show()"
   ]
  },
  {
   "cell_type": "code",
   "execution_count": 13,
   "id": "05bdc754",
   "metadata": {},
   "outputs": [
    {
     "name": "stdout",
     "output_type": "stream",
     "text": [
      "-------------------------------------------------------------------------------------------------------------------------------------------------------------------------------------------------------------------------------------------------------------------------------------------------------------------------------------------------------------------------------------------------------------------------------------------------------------------------------------------------------------------------------------------------------------------------------------------------------------------\n",
      "|\"name\"      |\"state\"    |\"type\"    |\"size\"   |\"min_cluster_count\"  |\"max_cluster_count\"  |\"started_clusters\"  |\"running\"  |\"queued\"  |\"is_default\"  |\"is_current\"  |\"auto_suspend\"  |\"auto_resume\"  |\"available\"  |\"provisioning\"  |\"quiescing\"  |\"other\"  |\"created_on\"                      |\"resumed_on\"                      |\"updated_on\"                      |\"owner\"       |\"comment\"                                         |\"enable_query_acceleration\"  |\"query_acceleration_max_scale_factor\"  |\"resource_monitor\"  |\"actives\"  |\"pendings\"  |\"failed\"  |\"suspended\"  |\"uuid\"    |\"scaling_policy\"  |\n",
      "-------------------------------------------------------------------------------------------------------------------------------------------------------------------------------------------------------------------------------------------------------------------------------------------------------------------------------------------------------------------------------------------------------------------------------------------------------------------------------------------------------------------------------------------------------------------------------------------------------------------\n",
      "|COMPUTE_WH  |SUSPENDED  |STANDARD  |X-Small  |1                    |1                    |0                   |0          |0         |N             |Y             |600             |true           |             |                |             |         |2023-01-16 02:29:42.618000-08:00  |2023-01-26 09:00:04.122000-08:00  |2023-01-26 09:00:04.122000-08:00  |ACCOUNTADMIN  |Created by Snowflake during account provisioning  |false                        |8                                      |null                |0          |0           |0         |1            |24945156  |STANDARD          |\n",
      "-------------------------------------------------------------------------------------------------------------------------------------------------------------------------------------------------------------------------------------------------------------------------------------------------------------------------------------------------------------------------------------------------------------------------------------------------------------------------------------------------------------------------------------------------------------------------------------------------------------------\n",
      "\n"
     ]
    }
   ],
   "source": [
    "# new_session.sql('use warehouse \"COMPUTE_WH\"').show()\n",
    "new_session.sql('SHOW WAREHOUSES').show()"
   ]
  },
  {
   "cell_type": "code",
   "execution_count": 14,
   "id": "126e9a12",
   "metadata": {},
   "outputs": [
    {
     "data": {
      "text/plain": [
       "[Row(number of rows inserted=12)]"
      ]
     },
     "execution_count": 14,
     "metadata": {},
     "output_type": "execute_result"
    }
   ],
   "source": [
    "new_session.sql(\"\"\"\n",
    "INSERT INTO DEMO_DB.public.sample_product_data VALUES\n",
    "(1,0,5,'Product 1','prod-1',1,10),\n",
    "(2,1,5,'Product 1A','prod-1-A',1,20),\n",
    "(3,1,5,'Product 1B','prod-1-B',1,30),\n",
    "(4,0,10,'Product 2','prod-2',2,40),\n",
    "(5,4,10,'Product 2A','prod-2-A',2,50),\n",
    "(6,4,10,'Product 2B','prod-2-B',2,60),\n",
    "(7, 0, 20, 'Product 3', 'prod-3', 3, 70),\n",
    "(8, 7, 20, 'Product 3A', 'prod-3-A', 3, 80),\n",
    "(9, 7, 20, 'Product 3B', 'prod-3-B', 3, 90),\n",
    "(10, 0, 50, 'Product 4', 'prod-4', 4, 100),\n",
    "(11, 10, 50, 'Product 4A', 'prod-4-A', 4, 100),\n",
    "(12, 10, 50, 'Product 4B', 'prod-4-B', 4, 100)\"\"\").collect()"
   ]
  },
  {
   "cell_type": "code",
   "execution_count": 15,
   "id": "b335fd06",
   "metadata": {},
   "outputs": [
    {
     "name": "stdout",
     "output_type": "stream",
     "text": [
      "--------------\n",
      "|\"COUNT(*)\"  |\n",
      "--------------\n",
      "|12          |\n",
      "--------------\n",
      "\n"
     ]
    }
   ],
   "source": [
    "new_session.sql('SELECT count(*) from DEMO_DB.public.sample_product_data').show()"
   ]
  },
  {
   "cell_type": "code",
   "execution_count": 16,
   "id": "7e26dc29",
   "metadata": {},
   "outputs": [
    {
     "name": "stdout",
     "output_type": "stream",
     "text": [
      "-------------------------------------------------------------------------------------\n",
      "|\"ID\"  |\"PARENT_ID\"  |\"CATEGORY_ID\"  |\"NAME\"      |\"SERIAL_NUMBER\"  |\"KEY\"  |\"3rd\"  |\n",
      "-------------------------------------------------------------------------------------\n",
      "|1     |0            |5              |Product 1   |prod-1           |1      |10     |\n",
      "|2     |1            |5              |Product 1A  |prod-1-A         |1      |20     |\n",
      "|3     |1            |5              |Product 1B  |prod-1-B         |1      |30     |\n",
      "|4     |0            |10             |Product 2   |prod-2           |2      |40     |\n",
      "|5     |4            |10             |Product 2A  |prod-2-A         |2      |50     |\n",
      "-------------------------------------------------------------------------------------\n",
      "\n"
     ]
    }
   ],
   "source": [
    "# construct a dataframe\n",
    "df_table = new_session.table('DEMO_DB.public.sample_product_data')\n",
    "df_table.show(5)"
   ]
  },
  {
   "cell_type": "code",
   "execution_count": 17,
   "id": "c7a96210",
   "metadata": {},
   "outputs": [
    {
     "name": "stdout",
     "output_type": "stream",
     "text": [
      "-------\n",
      "|\"A\"  |\n",
      "-------\n",
      "|1    |\n",
      "|2    |\n",
      "|3    |\n",
      "|4    |\n",
      "-------\n",
      "\n"
     ]
    }
   ],
   "source": [
    "# create a dataframe from specified values\n",
    "df1 = new_session.create_dataframe([1,2,3,4]).to_df(\"a\")\n",
    "df1.show()"
   ]
  },
  {
   "cell_type": "code",
   "execution_count": 18,
   "id": "d9a62b3f",
   "metadata": {},
   "outputs": [
    {
     "name": "stdout",
     "output_type": "stream",
     "text": [
      "-------------------------\n",
      "|\"A\"  |\"B\"  |\"C\"  |\"D\"  |\n",
      "-------------------------\n",
      "|1    |2    |3    |4    |\n",
      "-------------------------\n",
      "\n"
     ]
    }
   ],
   "source": [
    "# create a dataframe from specified values with 4 columns 'a','b','c' and'd'\n",
    "df2 = new_session.create_dataframe([[1,2,3,4]],schema=['a','b','c','d'])\n",
    "df2.show()"
   ]
  },
  {
   "cell_type": "code",
   "execution_count": 19,
   "id": "c655bbae",
   "metadata": {},
   "outputs": [
    {
     "name": "stdout",
     "output_type": "stream",
     "text": [
      "-------------------------\n",
      "|\"A\"  |\"B\"  |\"C\"  |\"D\"  |\n",
      "-------------------------\n",
      "|1    |2    |3    |4    |\n",
      "-------------------------\n",
      "\n"
     ]
    }
   ],
   "source": [
    "# create another dataframe with 4 columns,'a','b','c' and'd'\n",
    "from snowflake.snowpark import Row\n",
    "df3 = new_session.create_dataframe([Row(a=1,b=2,c=3,d=4)])\n",
    "df3.show()"
   ]
  },
  {
   "cell_type": "code",
   "execution_count": 20,
   "id": "abc4a2dc",
   "metadata": {},
   "outputs": [
    {
     "name": "stdout",
     "output_type": "stream",
     "text": [
      "---------------\n",
      "|\"A\"  |\"B\"    |\n",
      "---------------\n",
      "|1    |snow   |\n",
      "|3    |flake  |\n",
      "---------------\n",
      "\n"
     ]
    }
   ],
   "source": [
    "# create a dataframe and specify a schema\n",
    "from snowflake.snowpark.types import IntegerType, StringType, StructType, StructField\n",
    "schema = StructType([StructField('a', IntegerType()), StructField('b',StringType())])\n",
    "df4 = new_session.create_dataframe([[1,'snow'],[3,'flake']],schema)\n",
    "df4.show()"
   ]
  },
  {
   "cell_type": "code",
   "execution_count": 21,
   "id": "966f1e1c",
   "metadata": {},
   "outputs": [
    {
     "name": "stdout",
     "output_type": "stream",
     "text": [
      "-------\n",
      "|\"A\"  |\n",
      "-------\n",
      "|1    |\n",
      "|3    |\n",
      "|5    |\n",
      "|7    |\n",
      "|9    |\n",
      "-------\n",
      "\n"
     ]
    }
   ],
   "source": [
    "# create d ataframe from a range\n",
    "# the dataframe will contain rows with values 1,3,5,7 and 9 respectively.\n",
    "df_range = new_session.range(1,10,2).to_df('a')\n",
    "df_range.show()"
   ]
  },
  {
   "cell_type": "code",
   "execution_count": null,
   "id": "3e5c5e3a",
   "metadata": {},
   "outputs": [],
   "source": [
    "from snowflake.snowpark.types import StructType, StructField, StringType, IntegerType\n",
    "# Create Dataframe from data in a stage\n",
    "new_session.sql(\"USE DATABASE\").collect()\n",
    "df_json = new_session.read.json('@my_stage/data1.json')\n",
    "df_catalog = new_session.read.schema(StructType([StructField('name',StringType()),StructField('age',IntegerType())])).csv('@stage/some_dir')"
   ]
  },
  {
   "cell_type": "code",
   "execution_count": 25,
   "id": "09f6b377",
   "metadata": {},
   "outputs": [
    {
     "name": "stdout",
     "output_type": "stream",
     "text": [
      "--------------\n",
      "|\"NAME\"      |\n",
      "--------------\n",
      "|Product 1   |\n",
      "|Product 1A  |\n",
      "|Product 1B  |\n",
      "|Product 2   |\n",
      "|Product 2A  |\n",
      "|Product 2B  |\n",
      "|Product 3   |\n",
      "|Product 3A  |\n",
      "|Product 3B  |\n",
      "|Product 4   |\n",
      "--------------\n",
      "\n"
     ]
    }
   ],
   "source": [
    "# create a dataframe from a sql query\n",
    "df_sql = new_session.sql('select name from DEMO_DB.public.sample_product_data')\n",
    "df_sql.show()"
   ]
  },
  {
   "cell_type": "code",
   "execution_count": 26,
   "id": "6a866cd0",
   "metadata": {},
   "outputs": [
    {
     "name": "stdout",
     "output_type": "stream",
     "text": [
      "------------------------------------------------------------------------------------\n",
      "|\"ID\"  |\"PARENT_ID\"  |\"CATEGORY_ID\"  |\"NAME\"     |\"SERIAL_NUMBER\"  |\"KEY\"  |\"3rd\"  |\n",
      "------------------------------------------------------------------------------------\n",
      "|1     |0            |5              |Product 1  |prod-1           |1      |10     |\n",
      "------------------------------------------------------------------------------------\n",
      "\n"
     ]
    }
   ],
   "source": [
    "# import the col function from the functions module\n",
    "from snowflake.snowpark.functions import col\n",
    "\n",
    "# create a dataframe for the rows with the id 1 in the tabl 'sample_product_data' table\n",
    "\n",
    "df = new_session.table('DEMO_DB.public.sample_product_data').filter(col('id')==1)\n",
    "df.show()"
   ]
  },
  {
   "cell_type": "code",
   "execution_count": 27,
   "id": "b0bc967b",
   "metadata": {},
   "outputs": [
    {
     "name": "stdout",
     "output_type": "stream",
     "text": [
      "---------------------------------------\n",
      "|\"ID\"  |\"NAME\"      |\"SERIAL_NUMBER\"  |\n",
      "---------------------------------------\n",
      "|1     |Product 1   |prod-1           |\n",
      "|2     |Product 1A  |prod-1-A         |\n",
      "|3     |Product 1B  |prod-1-B         |\n",
      "|4     |Product 2   |prod-2           |\n",
      "|5     |Product 2A  |prod-2-A         |\n",
      "|6     |Product 2B  |prod-2-B         |\n",
      "|7     |Product 3   |prod-3           |\n",
      "|8     |Product 3A  |prod-3-A         |\n",
      "|9     |Product 3B  |prod-3-B         |\n",
      "|10    |Product 4   |prod-4           |\n",
      "---------------------------------------\n",
      "\n"
     ]
    }
   ],
   "source": [
    "df = new_session.table('DEMO_DB.public.sample_product_data').select(col('id'),col('name'),col('serial_number'))\n",
    "df.show()"
   ]
  },
  {
   "cell_type": "code",
   "execution_count": 28,
   "id": "7e6a013f",
   "metadata": {},
   "outputs": [
    {
     "name": "stdout",
     "output_type": "stream",
     "text": [
      "---------------------------------------\n",
      "|\"ID\"  |\"NAME\"      |\"SERIAL_NUMBER\"  |\n",
      "---------------------------------------\n",
      "|1     |Product 1   |prod-1           |\n",
      "|2     |Product 1A  |prod-1-A         |\n",
      "---------------------------------------\n",
      "\n",
      "---------------------------------------\n",
      "|\"ID\"  |\"NAME\"      |\"SERIAL_NUMBER\"  |\n",
      "---------------------------------------\n",
      "|1     |Product 1   |prod-1           |\n",
      "|2     |Product 1A  |prod-1-A         |\n",
      "---------------------------------------\n",
      "\n",
      "---------------------------------------\n",
      "|\"ID\"  |\"NAME\"      |\"SERIAL_NUMBER\"  |\n",
      "---------------------------------------\n",
      "|1     |Product 1   |prod-1           |\n",
      "|2     |Product 1A  |prod-1-A         |\n",
      "---------------------------------------\n",
      "\n"
     ]
    }
   ],
   "source": [
    "df_product_info = new_session.table('DEMO_DB.public.sample_product_data')\n",
    "df1 = df_product_info.select(df_product_info['id'],df_product_info['name'],df_product_info['serial_number'])\n",
    "df2 = df_product_info.select(df_product_info.id,df_product_info.name,df_product_info.serial_number)\n",
    "df3 = df_product_info.select('id','name','serial_number')\n",
    "df1.show(2)\n",
    "df2.show(2)\n",
    "df3.show(2)"
   ]
  },
  {
   "cell_type": "code",
   "execution_count": 29,
   "id": "97eadbfb",
   "metadata": {},
   "outputs": [
    {
     "name": "stdout",
     "output_type": "stream",
     "text": [
      "-------------------------------\n",
      "|\"KEY\"  |\"VALUE1\"  |\"VALUE2\"  |\n",
      "-------------------------------\n",
      "|a      |1         |3         |\n",
      "|b      |2         |4         |\n",
      "-------------------------------\n",
      "\n"
     ]
    }
   ],
   "source": [
    "# create two dataframe to join\n",
    "df_lhs = new_session.create_dataframe([['a',1],['b',2]],schema = ['key','value1'])\n",
    "df_rhs = new_session.create_dataframe([['a',3],['b',4]],schema = ['key','value2'])\n",
    "\n",
    "# create a dataframe that joins the two dataframe on the column name 'key'\n",
    "df_lhs.join(df_rhs, df_lhs.col('key')==df_rhs.col('key')).select(df_lhs['key'].as_('key'),'value1','value2').show()"
   ]
  },
  {
   "cell_type": "code",
   "execution_count": 30,
   "id": "cd74adb8",
   "metadata": {},
   "outputs": [],
   "source": [
    "# copy the dataframe if you want to do a self-join\n",
    "from copy import copy\n",
    "df_lhs_copied = copy(df_lhs)\n",
    "df_self_joined = df_lhs.join(df_lhs_copied, (df_lhs.col('key')==df_lhs_copied.col('key')) & (df_lhs.col('value1')==df_lhs_copied.col('value1')))"
   ]
  },
  {
   "cell_type": "code",
   "execution_count": 31,
   "id": "6281ca04",
   "metadata": {},
   "outputs": [
    {
     "name": "stdout",
     "output_type": "stream",
     "text": [
      "-----------------------------------------------------\n",
      "|\"l_rt7q_KEY\"  |\"VALUE1\"  |\"r_5ibx_KEY\"  |\"VALUE2\"  |\n",
      "-----------------------------------------------------\n",
      "|a             |1         |a             |3         |\n",
      "|b             |2         |b             |4         |\n",
      "-----------------------------------------------------\n",
      "\n"
     ]
    }
   ],
   "source": [
    "df_lhs.join(df_rhs, df_lhs.col('key')== df_rhs.col('key')).show()"
   ]
  },
  {
   "cell_type": "code",
   "execution_count": 32,
   "id": "5a6da8ec",
   "metadata": {},
   "outputs": [
    {
     "name": "stdout",
     "output_type": "stream",
     "text": [
      "-----------------------------------------\n",
      "|\"KEY1\"  |\"KEY2\"  |\"VALUE1\"  |\"VALUE2\"  |\n",
      "-----------------------------------------\n",
      "|a       |a       |1         |3         |\n",
      "|b       |b       |2         |4         |\n",
      "-----------------------------------------\n",
      "\n"
     ]
    }
   ],
   "source": [
    "df_lhs.join(df_rhs, df_lhs.col('key')== df_rhs.col('key')).select(df_lhs['key'].alias('key1'),df_rhs['key'].alias('key2'),'value1','value2').show()"
   ]
  },
  {
   "cell_type": "code",
   "execution_count": 33,
   "id": "76a435fb",
   "metadata": {},
   "outputs": [
    {
     "name": "stdout",
     "output_type": "stream",
     "text": [
      "--------------------------------------------------\n",
      "|\"KEY_LEFT\"  |\"VALUE1\"  |\"KEY_RIGHT\"  |\"VALUE2\"  |\n",
      "--------------------------------------------------\n",
      "|a           |1         |a            |3         |\n",
      "|b           |2         |b            |4         |\n",
      "--------------------------------------------------\n",
      "\n"
     ]
    }
   ],
   "source": [
    "df_lhs.join(df_rhs, df_lhs.col('key')== df_rhs.col('key'), lsuffix = '_left', rsuffix='_right').show()"
   ]
  },
  {
   "cell_type": "code",
   "execution_count": 34,
   "id": "369be2b1",
   "metadata": {},
   "outputs": [
    {
     "name": "stdout",
     "output_type": "stream",
     "text": [
      "You cannot join a DataFrame with itself because the column references cannot be resolved correctly. Instead, create a copy of the DataFrame with copy.copy(), and join the DataFrame with this copy.\n",
      "You cannot join a DataFrame with itself because the column references cannot be resolved correctly. Instead, create a copy of the DataFrame with copy.copy(), and join the DataFrame with this copy.\n"
     ]
    }
   ],
   "source": [
    "from snowflake.snowpark.exceptions import SnowparkJoinException\n",
    "df =  new_session.table('DEMO_DB.public.sample_product_data')\n",
    "# this fails because columns named 'id' and 'parent_id' are in the left anf right dataframes in the join.\n",
    "try:\n",
    "    df_joined = df.join(df, col('id')== col('parent_id'))\n",
    "except SnowparkJoinException as e:\n",
    "    print(e.message)\n",
    "    \n",
    "\n",
    "try:\n",
    "    df_joined = df.join(df, df['id']== df['parent_id'])\n",
    "except SnowparkJoinException as e:\n",
    "    print(e.message)"
   ]
  },
  {
   "cell_type": "code",
   "execution_count": 35,
   "id": "18e88c9c",
   "metadata": {},
   "outputs": [
    {
     "data": {
      "text/plain": [
       "8"
      ]
     },
     "execution_count": 35,
     "metadata": {},
     "output_type": "execute_result"
    }
   ],
   "source": [
    "from copy import copy\n",
    "df_lhs = new_session.table('DEMO_DB.public.sample_product_data')\n",
    "df_rhs = copy(df_lhs)\n",
    "\n",
    "df_joined = df_lhs.join(df_rhs, df_lhs.col('id')==df_rhs.col('parent_id'))\n",
    "df_joined.count()"
   ]
  },
  {
   "cell_type": "code",
   "execution_count": 36,
   "id": "1af5881a",
   "metadata": {},
   "outputs": [
    {
     "name": "stdout",
     "output_type": "stream",
     "text": [
      "---------------------\n",
      "|\"ID\"  |\"NAME\"      |\n",
      "---------------------\n",
      "|1     |Product 1   |\n",
      "|2     |Product 1A  |\n",
      "|3     |Product 1B  |\n",
      "|4     |Product 2   |\n",
      "|5     |Product 2A  |\n",
      "|6     |Product 2B  |\n",
      "|7     |Product 3   |\n",
      "|8     |Product 3A  |\n",
      "|9     |Product 3B  |\n",
      "|10    |Product 4   |\n",
      "---------------------\n",
      "\n"
     ]
    }
   ],
   "source": [
    "# import the col function from the functions module\n",
    "df_product_info = new_session.table('DEMO_DB.public.sample_product_data').select('id','name')\n",
    "df_product_info.show()"
   ]
  },
  {
   "cell_type": "code",
   "execution_count": 37,
   "id": "65ca3dd5",
   "metadata": {},
   "outputs": [],
   "source": [
    "# specify the equivalent of 'where id =20' in a sql select statemnt\n",
    "df_filtered = df.filter(col('id')==20)"
   ]
  },
  {
   "cell_type": "code",
   "execution_count": 38,
   "id": "9276fb04",
   "metadata": {},
   "outputs": [
    {
     "name": "stdout",
     "output_type": "stream",
     "text": [
      "-------------\n",
      "|\"A\"  |\"B\"  |\n",
      "-------------\n",
      "|1    |3    |\n",
      "-------------\n",
      "\n"
     ]
    }
   ],
   "source": [
    "df =  new_session.create_dataframe([[1,3],[2,10]],schema = ['a','b'])\n",
    "# specify the equivalent of 'where a+b<10 in a sql select statement'\n",
    "\n",
    "df_filtered = df.filter(col('a')+col('b')<10)\n",
    "df_filtered.show()"
   ]
  },
  {
   "cell_type": "code",
   "execution_count": 39,
   "id": "4ce33652",
   "metadata": {},
   "outputs": [
    {
     "name": "stdout",
     "output_type": "stream",
     "text": [
      "-------\n",
      "|\"C\"  |\n",
      "-------\n",
      "|30   |\n",
      "|100  |\n",
      "-------\n",
      "\n"
     ]
    }
   ],
   "source": [
    "# specify the equivalent of 'select b * 10 as c' in a sql select statement\n",
    "df_selected = df.select((col('b')*10).as_('c'))\n",
    "df_selected.show()"
   ]
  },
  {
   "cell_type": "code",
   "execution_count": 40,
   "id": "d79a6cc5",
   "metadata": {},
   "outputs": [
    {
     "name": "stdout",
     "output_type": "stream",
     "text": [
      "-----------------------\n",
      "|\"THE_JOINED_COLUMN\"  |\n",
      "-----------------------\n",
      "|1                    |\n",
      "-----------------------\n",
      "\n"
     ]
    }
   ],
   "source": [
    "dfX = new_session.create_dataframe([[1],[2]],schema = ['a_in_X'])\n",
    "dfY = new_session.create_dataframe([[1],[3]],schema = ['b_in_Y'])\n",
    "# specify equivalent on 'X JOIN Y on X.a_in_X = b.b_in_Y'\n",
    "df_joined = dfX.join(dfY, col('a_in_X')==col('b_in_Y')).select(dfX['a_in_X'].alias('the_joined_column'))\n",
    "df_joined.show()"
   ]
  },
  {
   "cell_type": "code",
   "execution_count": 41,
   "id": "5cbce432",
   "metadata": {},
   "outputs": [
    {
     "name": "stdout",
     "output_type": "stream",
     "text": [
      "---------------------\n",
      "|\"KEY\"  |\"L\"  |\"R\"  |\n",
      "---------------------\n",
      "|a      |1    |3    |\n",
      "|b      |2    |4    |\n",
      "---------------------\n",
      "\n"
     ]
    }
   ],
   "source": [
    "# create two dataframe to join\n",
    "df_lhs = new_session.create_dataframe([['a',1],['b',2]],schema = ['key','value1'])\n",
    "df_rhs = new_session.create_dataframe([['a',3],['b',4]],schema = ['key','value2'])\n",
    "\n",
    "# create a dataframe that joins the two dataframe on the column name 'key'\n",
    "df_lhs.join(df_rhs, df_lhs.col('key')==df_rhs.col('key')).select(df_lhs['key'].as_('key'),df_lhs.col('value1').as_('L'),df_rhs.col('value2').as_('R')).show()"
   ]
  },
  {
   "cell_type": "code",
   "execution_count": 73,
   "id": "7ee2ced5",
   "metadata": {},
   "outputs": [],
   "source": [
    "# new_session.sql('use database DEMO_DB')"
   ]
  },
  {
   "cell_type": "code",
   "execution_count": 42,
   "id": "8911e134",
   "metadata": {},
   "outputs": [
    {
     "data": {
      "text/plain": [
       "[Row(status='Table 10tablename successfully created.')]"
      ]
     },
     "execution_count": 42,
     "metadata": {},
     "output_type": "execute_result"
    }
   ],
   "source": [
    "\n",
    "new_session.sql(\"\"\"\n",
    "create or replace table DEMO_DB.public.\"10tablename\"\n",
    "(\n",
    "id123 varchar,\n",
    "\"3rdID\" varchar,\n",
    "\"id with space\" varchar)\"\"\").collect()\n",
    "\n"
   ]
  },
  {
   "cell_type": "code",
   "execution_count": 48,
   "id": "1ce18ad1",
   "metadata": {},
   "outputs": [
    {
     "name": "stdout",
     "output_type": "stream",
     "text": [
      "---------------------------------------\n",
      "|\"ID123\"  |\"3rdID\"  |\"id with space\"  |\n",
      "---------------------------------------\n",
      "|a        |b        |c                |\n",
      "|a        |b        |c                |\n",
      "---------------------------------------\n",
      "\n"
     ]
    }
   ],
   "source": [
    "new_session.sql(\"\"\"insert into DEMO_DB.public.\"10tablename\" (id123, \"3rdID\",\"id with space\") values('a','b','c')\"\"\").collect()\n",
    "df = new_session.table('DEMO_DB.public.\"10tablename\"')\n",
    "df.show()"
   ]
  },
  {
   "cell_type": "code",
   "execution_count": 49,
   "id": "676c3a5d",
   "metadata": {},
   "outputs": [
    {
     "data": {
      "text/plain": [
       "[Row(ID123='a'), Row(ID123='a')]"
      ]
     },
     "execution_count": 49,
     "metadata": {},
     "output_type": "execute_result"
    }
   ],
   "source": [
    "df.select(col('id123')).collect()\n",
    "df.select(col(\"ID123\")).collect()"
   ]
  },
  {
   "cell_type": "code",
   "execution_count": 45,
   "id": "96c181d8",
   "metadata": {},
   "outputs": [],
   "source": [
    "# df = new_session.table(\"\\\"10tablename\\\"\")\n",
    "# df = new_session.table('\"10tablename\"')"
   ]
  },
  {
   "cell_type": "code",
   "execution_count": 50,
   "id": "702bd552",
   "metadata": {},
   "outputs": [],
   "source": [
    "from snowflake.snowpark.functions import col,lit\n",
    "df_filtered = df.filter(col('num_items')>lit(5))"
   ]
  },
  {
   "cell_type": "code",
   "execution_count": 51,
   "id": "c429e4c7",
   "metadata": {},
   "outputs": [],
   "source": [
    "from snowflake.snowpark.types import DecimalType\n",
    "decimal_vale = lit(0.05).cast(DecimalType(5,2))"
   ]
  },
  {
   "cell_type": "code",
   "execution_count": 52,
   "id": "d5061cb9",
   "metadata": {},
   "outputs": [
    {
     "name": "stdout",
     "output_type": "stream",
     "text": [
      "-------------------------------\n",
      "|\"NAME\"     |\"SERIAL_NUMBER\"  |\n",
      "-------------------------------\n",
      "|Product 1  |prod-1           |\n",
      "-------------------------------\n",
      "\n"
     ]
    }
   ],
   "source": [
    "df_product_info = new_session.table('DEMO_DB.public.sample_product_data').filter(col('id')==1).select(col('name'),col('serial_number'))\n",
    "df_product_info.show()"
   ]
  },
  {
   "cell_type": "code",
   "execution_count": 56,
   "id": "c13228e1",
   "metadata": {},
   "outputs": [
    {
     "data": {
      "text/plain": [
       "StructType([StructField('ID', LongType(), nullable=True), StructField('PARENT_ID', LongType(), nullable=True), StructField('CATEGORY_ID', LongType(), nullable=True), StructField('NAME', StringType(), nullable=True), StructField('SERIAL_NUMBER', StringType(), nullable=True), StructField('KEY', LongType(), nullable=True), StructField('\"3rd\"', LongType(), nullable=True)])"
      ]
     },
     "execution_count": 56,
     "metadata": {},
     "output_type": "execute_result"
    }
   ],
   "source": [
    "table_schema = new_session.table('DEMO_DB.public.sample_product_data').schema\n",
    "table_schema"
   ]
  },
  {
   "cell_type": "code",
   "execution_count": 58,
   "id": "e095b293",
   "metadata": {},
   "outputs": [
    {
     "data": {
      "text/plain": [
       "['ID', '\"3rd\"']"
      ]
     },
     "execution_count": 58,
     "metadata": {},
     "output_type": "execute_result"
    }
   ],
   "source": [
    "# create dataframe containing the 'id' and '3rd' columns\n",
    "df_selected_columns = new_session.table('DEMO_DB.public.sample_product_data').select(col('id'),col(\"3rd\"))\n",
    "df_selected_columns.schema.names"
   ]
  },
  {
   "cell_type": "code",
   "execution_count": 59,
   "id": "f2f698b4",
   "metadata": {},
   "outputs": [],
   "source": [
    "df = new_session.table('DEMO_DB.public.sample_product_data').select(col('id'),col('name'))\n",
    "results = df.collect()"
   ]
  },
  {
   "cell_type": "code",
   "execution_count": 60,
   "id": "461af867",
   "metadata": {},
   "outputs": [
    {
     "name": "stdout",
     "output_type": "stream",
     "text": [
      "12\n"
     ]
    }
   ],
   "source": [
    "df_products = new_session.table('DEMO_DB.public.sample_product_data')\n",
    "print(df_products.count())"
   ]
  },
  {
   "cell_type": "code",
   "execution_count": 62,
   "id": "b22ab1f4",
   "metadata": {},
   "outputs": [
    {
     "name": "stdout",
     "output_type": "stream",
     "text": [
      "-------------------------------------------------------------------------------------\n",
      "|\"ID\"  |\"PARENT_ID\"  |\"CATEGORY_ID\"  |\"NAME\"      |\"SERIAL_NUMBER\"  |\"KEY\"  |\"3rd\"  |\n",
      "-------------------------------------------------------------------------------------\n",
      "|1     |0            |5              |Product 1   |prod-1           |1      |10     |\n",
      "|2     |1            |5              |Product 1A  |prod-1-A         |1      |20     |\n",
      "|3     |1            |5              |Product 1B  |prod-1-B         |1      |30     |\n",
      "|4     |0            |10             |Product 2   |prod-2           |2      |40     |\n",
      "|5     |4            |10             |Product 2A  |prod-2-A         |2      |50     |\n",
      "|6     |4            |10             |Product 2B  |prod-2-B         |2      |60     |\n",
      "|7     |0            |20             |Product 3   |prod-3           |3      |70     |\n",
      "|8     |7            |20             |Product 3A  |prod-3-A         |3      |80     |\n",
      "|9     |7            |20             |Product 3B  |prod-3-B         |3      |90     |\n",
      "|10    |0            |50             |Product 4   |prod-4           |4      |100    |\n",
      "|11    |10           |50             |Product 4A  |prod-4-A         |4      |100    |\n",
      "|12    |10           |50             |Product 4B  |prod-4-B         |4      |100    |\n",
      "-------------------------------------------------------------------------------------\n",
      "\n"
     ]
    }
   ],
   "source": [
    "# create a dataframe for the 'sample_product_data' table\n",
    "df_products = new_session.table('DEMO_DB.public.sample_product_data')\n",
    "df_products.show(20)"
   ]
  },
  {
   "cell_type": "code",
   "execution_count": 63,
   "id": "8aeed474",
   "metadata": {},
   "outputs": [],
   "source": [
    "python_df = new_session.create_dataframe(['a','b','c'])\n",
    "pandas_df = python_df.to_pandas()"
   ]
  },
  {
   "cell_type": "code",
   "execution_count": 65,
   "id": "063937a3",
   "metadata": {},
   "outputs": [],
   "source": [
    "df.write.mode('overwrite').save_as_table('DEMO_DB.public.table1')"
   ]
  },
  {
   "cell_type": "code",
   "execution_count": null,
   "id": "baa92ba3",
   "metadata": {},
   "outputs": [],
   "source": [
    "import os\n",
    "database = os.environ[\"DEMO_DB\"]\n",
    "schema = os.environ[\"public\"]\n",
    "view_name = \"my_view\"\n",
    "df.create_or_replace_view(f\"{database}.{schema}.{view_name}\")"
   ]
  },
  {
   "cell_type": "code",
   "execution_count": 78,
   "id": "d50dfff7",
   "metadata": {},
   "outputs": [],
   "source": [
    "from snowflake.snowpark.types import *\n",
    "schema_for_data_file = StructType([\n",
    "    StructField(\"id\",StringType()),\n",
    "    StructField(\"name\",StringType())\n",
    "])"
   ]
  },
  {
   "cell_type": "code",
   "execution_count": 79,
   "id": "6ab92247",
   "metadata": {},
   "outputs": [],
   "source": [
    "df_reader = new_session.read.schema(schema_for_data_file)"
   ]
  },
  {
   "cell_type": "code",
   "execution_count": 80,
   "id": "c7617e6e",
   "metadata": {},
   "outputs": [],
   "source": [
    "df_reader = df_reader.option('field_delimiter',';').option('COMPRESSION','NONE')"
   ]
  },
  {
   "cell_type": "code",
   "execution_count": null,
   "id": "516a9654",
   "metadata": {},
   "outputs": [],
   "source": [
    "new_session.sql(\"USE DATABASE\").collect() \n",
    "df = df_reader.csv('@s3_ts_stage/emails/data_0_0_0.csv')"
   ]
  },
  {
   "cell_type": "code",
   "execution_count": null,
   "id": "b1eb723d",
   "metadata": {},
   "outputs": [],
   "source": [
    "# import the sql_expr function from the functions module\n",
    "from snowflake.snowpark.functions import sql_expr\n",
    "df = new_session.read.json('@my_stage').select(sql_expr('$1:color'))"
   ]
  },
  {
   "cell_type": "code",
   "execution_count": 83,
   "id": "f3da2a90",
   "metadata": {},
   "outputs": [
    {
     "data": {
      "text/plain": [
       "[Row(status='Stage area MY_STAGE successfully created.')]"
      ]
     },
     "execution_count": 83,
     "metadata": {},
     "output_type": "execute_result"
    }
   ],
   "source": [
    "new_session.sql(\"create or replace temp stage DEMO_DB.public.my_stage\").collect()"
   ]
  },
  {
   "cell_type": "code",
   "execution_count": 85,
   "id": "d5b4398a",
   "metadata": {},
   "outputs": [],
   "source": [
    "stage_files_df = new_session.sql('ls @DEMO_DB.public.my_stage').collect()"
   ]
  },
  {
   "cell_type": "code",
   "execution_count": 86,
   "id": "3cfb3b0f",
   "metadata": {},
   "outputs": [
    {
     "data": {
      "text/plain": [
       "[Row(status='Statement executed successfully.')]"
      ]
     },
     "execution_count": 86,
     "metadata": {},
     "output_type": "execute_result"
    }
   ],
   "source": [
    "new_session.sql(\"alter warehouse if exists my_warehouse resume if suspended\").collect()"
   ]
  },
  {
   "cell_type": "code",
   "execution_count": 88,
   "id": "2dda9c79",
   "metadata": {},
   "outputs": [
    {
     "data": {
      "text/plain": [
       "[Row(status='Copy executed with 0 files processed.')]"
      ]
     },
     "execution_count": 88,
     "metadata": {},
     "output_type": "execute_result"
    }
   ],
   "source": [
    "new_session.sql('copy into DEMO_DB.public.sample_product_data from @DEMO_DB.public.my_stage file_format =(type = csv)').collect()"
   ]
  },
  {
   "cell_type": "code",
   "execution_count": 89,
   "id": "438d2a99",
   "metadata": {},
   "outputs": [],
   "source": [
    "new_session.close()"
   ]
  },
  {
   "cell_type": "code",
   "execution_count": null,
   "id": "89e2ef6a",
   "metadata": {},
   "outputs": [],
   "source": []
  }
 ],
 "metadata": {
  "kernelspec": {
   "display_name": "Python 3 (ipykernel)",
   "language": "python",
   "name": "python3"
  },
  "language_info": {
   "codemirror_mode": {
    "name": "ipython",
    "version": 3
   },
   "file_extension": ".py",
   "mimetype": "text/x-python",
   "name": "python",
   "nbconvert_exporter": "python",
   "pygments_lexer": "ipython3",
   "version": "3.8.15"
  }
 },
 "nbformat": 4,
 "nbformat_minor": 5
}
